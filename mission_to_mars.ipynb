{
 "cells": [
  {
   "cell_type": "markdown",
   "metadata": {},
   "source": [
    "## 1 Scraping\n",
    "Scott McEachern\n",
    "April 18, 2019"
   ]
  },
  {
   "cell_type": "markdown",
   "metadata": {},
   "source": [
    "### 1.1 Dependences\n",
    "Load depencies and initialize browser used with the collection data"
   ]
  },
  {
   "cell_type": "code",
   "execution_count": 2,
   "metadata": {},
   "outputs": [
    {
     "name": "stdout",
     "output_type": "stream",
     "text": [
      "Completed initialization of browser\n"
     ]
    }
   ],
   "source": [
    "#-- Dependences\n",
    "import requests\n",
    "from splinter import Browser\n",
    "from bs4 import BeautifulSoup\n",
    "\n",
    "import time\n",
    "import urllib.parse\n",
    "\n",
    "\n",
    "#-- Initialize Browser\n",
    "executable_path = {'executable_path': '/usr/local/bin/chromedriver'}\n",
    "browser = Browser('chrome', **executable_path, headless=False)\n",
    "\n",
    "\n",
    "print(\"Completed initialization of browser\")"
   ]
  },
  {
   "cell_type": "markdown",
   "metadata": {},
   "source": [
    "### 1.2 NASA Mars News\n",
    "Scrape latest news title and paragraph from the NASA Mars News Site. The news article content is loaded async after the initial load of the page and require to use the Splinter library to control the browser so that all of the content is available."
   ]
  },
  {
   "cell_type": "code",
   "execution_count": 3,
   "metadata": {},
   "outputs": [
    {
     "name": "stdout",
     "output_type": "stream",
     "text": [
      "Completed load of site\n",
      "Delay for download is completed\n",
      "Title: Things Are Stacking up for NASA's Mars 2020 Spacecraft\n",
      "Paragraph: As the July 2020 launch date inches closer, the next spacecraft headed to the Red Planet is assembled for more testing.\n"
     ]
    }
   ],
   "source": [
    "#-- Load Browser with Site\n",
    "nasaMarsNewsUrl = 'https://mars.nasa.gov/news/?page=0&per_page=40&order=publish_date+desc%2Ccreated_at+desc&search=&category=19%2C165%2C184%2C204&blank_scope=Latest'\n",
    "\n",
    "browser.visit(nasaMarsNewsUrl)\n",
    "\n",
    "print(\"Completed load of site\")\n",
    "\n",
    "\n",
    "#-- Delay \n",
    "# It was found that the first time the script is run, the async content is not dowloaded and the delay is \n",
    "# to ensure that the content can be downloaded before attempting to search for content on page\n",
    "time.sleep(5)\n",
    "\n",
    "print(\"Delay for download is completed\")\n",
    "\n",
    "\n",
    "#-- Parse Page\n",
    "nasaMarsNewsSoup = BeautifulSoup(browser.html, 'html.parser')\n",
    "\n",
    "\n",
    "#-- Get Content\n",
    "#- Get List items\n",
    "newsList = nasaMarsNewsSoup.find_all('li', class_='slide')\n",
    "\n",
    "\n",
    "#- Get First News\n",
    "news_title = ''\n",
    "news_p = ''\n",
    "\n",
    "if (len(newsList) > 1):\n",
    "    news_title = newsList[0].find('div', class_='content_title').text\n",
    "    \n",
    "    news_p = newsList[0].find('div', class_='article_teaser_body').text\n",
    "    \n",
    "\n",
    "#- Display Information\n",
    "print(f\"Title: {news_title}\")\n",
    "print(f\"Paragraph: {news_p}\")\n"
   ]
  },
  {
   "cell_type": "markdown",
   "metadata": {},
   "source": [
    "### 1.3 JPL Mars Space Images\n",
    "Get the URL to the currently featured Mars image."
   ]
  },
  {
   "cell_type": "code",
   "execution_count": 4,
   "metadata": {},
   "outputs": [
    {
     "name": "stdout",
     "output_type": "stream",
     "text": [
      "Completed navigation to featured image\n",
      "Completed navigation to metadata page\n",
      "URL: https://photojournal.jpl.nasa.gov/jpeg/PIA16021.jpg\n"
     ]
    }
   ],
   "source": [
    "#-- Navigate to Feature Image Metadata\n",
    "#- Browse to Site\n",
    "marsSpaceImagesUrl = 'https://www.jpl.nasa.gov/spaceimages/?search=&category=Mars'\n",
    "\n",
    "browser.visit(marsSpaceImagesUrl)\n",
    "\n",
    "\n",
    "#- Navigate to Featured Image\n",
    "browser.click_link_by_partial_text('FULL IMAGE')\n",
    "\n",
    "print(\"Completed navigation to featured image\")\n",
    "\n",
    "\n",
    "#- Wait\n",
    "# To ensure success in navigating to metadata page; wait for 2 seconds\n",
    "time.sleep(2)\n",
    "\n",
    "\n",
    "#- Navigate to Metadata\n",
    "browser.click_link_by_partial_text('more info')\n",
    "\n",
    "print(\"Completed navigation to metadata page\")\n",
    "\n",
    "\n",
    "#-- Parse Page\n",
    "spaceImageSoup = BeautifulSoup(browser.html, 'html.parser')\n",
    "\n",
    "\n",
    "#-- Get URL to Feature Image\n",
    "#- Get List of Image Details\n",
    "imageMetadataList = spaceImageSoup.find_all('div', class_='download_tiff')\n",
    "\n",
    "\n",
    "#- Get JPG\n",
    "featured_image_url = ''\n",
    "\n",
    "for imageMetadata in imageMetadataList:\n",
    "    \n",
    "    if ('Full-Res JPG' in imageMetadata.text):\n",
    "                \n",
    "        #- Create URL\n",
    "        baseUrl = \"https:\"\n",
    "        featured_image_url = urllib.parse.urljoin(baseUrl, imageMetadata.find('a')['href'])\n",
    "        \n",
    "        break\n",
    "\n",
    "        \n",
    "#- Display Information\n",
    "print(f\"URL: {featured_image_url}\")\n"
   ]
  },
  {
   "cell_type": "code",
   "execution_count": null,
   "metadata": {},
   "outputs": [],
   "source": []
  },
  {
   "cell_type": "code",
   "execution_count": null,
   "metadata": {},
   "outputs": [],
   "source": []
  },
  {
   "cell_type": "code",
   "execution_count": null,
   "metadata": {},
   "outputs": [],
   "source": []
  },
  {
   "cell_type": "code",
   "execution_count": null,
   "metadata": {},
   "outputs": [],
   "source": []
  },
  {
   "cell_type": "code",
   "execution_count": null,
   "metadata": {},
   "outputs": [],
   "source": []
  },
  {
   "cell_type": "code",
   "execution_count": null,
   "metadata": {},
   "outputs": [],
   "source": []
  },
  {
   "cell_type": "code",
   "execution_count": null,
   "metadata": {},
   "outputs": [],
   "source": []
  },
  {
   "cell_type": "code",
   "execution_count": null,
   "metadata": {},
   "outputs": [],
   "source": []
  }
 ],
 "metadata": {
  "kernelspec": {
   "display_name": "Python 3",
   "language": "python",
   "name": "python3"
  },
  "language_info": {
   "codemirror_mode": {
    "name": "ipython",
    "version": 3
   },
   "file_extension": ".py",
   "mimetype": "text/x-python",
   "name": "python",
   "nbconvert_exporter": "python",
   "pygments_lexer": "ipython3",
   "version": "3.7.1"
  }
 },
 "nbformat": 4,
 "nbformat_minor": 2
}
