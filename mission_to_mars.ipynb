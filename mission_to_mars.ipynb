{
 "cells": [
  {
   "cell_type": "markdown",
   "metadata": {},
   "source": [
    "## 1 Scraping\n",
    "Scott McEachern  \n",
    "April 18, 2019"
   ]
  },
  {
   "cell_type": "markdown",
   "metadata": {},
   "source": [
    "### 1.1 Dependences\n",
    "Load depencies and initialize browser used with the collection data"
   ]
  },
  {
   "cell_type": "code",
   "execution_count": 1,
   "metadata": {},
   "outputs": [
    {
     "name": "stdout",
     "output_type": "stream",
     "text": [
      "Completed initialization of browser\n"
     ]
    }
   ],
   "source": [
    "#-- Dependences\n",
    "import requests\n",
    "from splinter import Browser\n",
    "from bs4 import BeautifulSoup\n",
    "\n",
    "import time\n",
    "import urllib.parse\n",
    "import pandas as pd\n",
    "\n",
    "\n",
    "#-- Initialize Browser\n",
    "executable_path = {'executable_path': '/usr/local/bin/chromedriver'}\n",
    "browser = Browser('chrome', **executable_path, headless=False)\n",
    "\n",
    "\n",
    "print(\"Completed initialization of browser\")"
   ]
  },
  {
   "cell_type": "markdown",
   "metadata": {},
   "source": [
    "### 1.2 NASA Mars News\n",
    "Scrape latest news title and paragraph from the NASA Mars News Site. The news article content is loaded async after the initial load of the page and require to use the Splinter library to control the browser so that all of the content is available."
   ]
  },
  {
   "cell_type": "code",
   "execution_count": 3,
   "metadata": {},
   "outputs": [
    {
     "name": "stdout",
     "output_type": "stream",
     "text": [
      "Completed load of site\n",
      "Delay for download is completed\n",
      "Title: Things Are Stacking up for NASA's Mars 2020 Spacecraft\n",
      "Paragraph: As the July 2020 launch date inches closer, the next spacecraft headed to the Red Planet is assembled for more testing.\n"
     ]
    }
   ],
   "source": [
    "#-- Load Browser with Site\n",
    "nasaMarsNewsUrl = 'https://mars.nasa.gov/news/?page=0&per_page=40&order=publish_date+desc%2Ccreated_at+desc&search=&category=19%2C165%2C184%2C204&blank_scope=Latest'\n",
    "\n",
    "browser.visit(nasaMarsNewsUrl)\n",
    "\n",
    "print(\"Completed load of site\")\n",
    "\n",
    "\n",
    "#-- Delay \n",
    "# It was found that the first time the script is run, the async content is not dowloaded and the delay is \n",
    "# to ensure that the content can be downloaded before attempting to search for content on page\n",
    "time.sleep(5)\n",
    "\n",
    "print(\"Delay for download is completed\")\n",
    "\n",
    "\n",
    "#-- Parse Page\n",
    "nasaMarsNewsSoup = BeautifulSoup(browser.html, 'html.parser')\n",
    "\n",
    "\n",
    "#-- Get Content\n",
    "#- Get List items\n",
    "newsList = nasaMarsNewsSoup.find_all('li', class_='slide')\n",
    "\n",
    "\n",
    "#- Get First News\n",
    "news_title = ''\n",
    "news_p = ''\n",
    "\n",
    "if (len(newsList) > 1):\n",
    "    news_title = newsList[0].find('div', class_='content_title').text\n",
    "    \n",
    "    news_p = newsList[0].find('div', class_='article_teaser_body').text\n",
    "    \n",
    "\n",
    "#- Display Information\n",
    "print(f\"Title: {news_title}\")\n",
    "print(f\"Paragraph: {news_p}\")\n"
   ]
  },
  {
   "cell_type": "markdown",
   "metadata": {},
   "source": [
    "### 1.3 JPL Mars Space Images\n",
    "Get the URL to the currently featured Mars image. Navigate through the site to get the metadata on the featured image. Use time to sleep between page navigations to ensure it has successfully loaded otherwise it was found it could not navigate between pages."
   ]
  },
  {
   "cell_type": "code",
   "execution_count": 4,
   "metadata": {},
   "outputs": [
    {
     "name": "stdout",
     "output_type": "stream",
     "text": [
      "Completed navigation to featured image\n",
      "Completed navigation to metadata page\n",
      "URL: https://photojournal.jpl.nasa.gov/jpeg/PIA16021.jpg\n"
     ]
    }
   ],
   "source": [
    "#-- Navigate to Feature Image Metadata\n",
    "#- Browse to Site\n",
    "marsSpaceImagesUrl = 'https://www.jpl.nasa.gov/spaceimages/?search=&category=Mars'\n",
    "\n",
    "browser.visit(marsSpaceImagesUrl)\n",
    "\n",
    "\n",
    "#- Navigate to Featured Image\n",
    "browser.click_link_by_partial_text('FULL IMAGE')\n",
    "\n",
    "print(\"Completed navigation to featured image\")\n",
    "\n",
    "\n",
    "#- Wait\n",
    "# To ensure success in navigating to metadata page; wait for 2 seconds\n",
    "time.sleep(2)\n",
    "\n",
    "\n",
    "#- Navigate to Metadata\n",
    "browser.click_link_by_partial_text('more info')\n",
    "\n",
    "print(\"Completed navigation to metadata page\")\n",
    "\n",
    "\n",
    "#-- Parse Page\n",
    "spaceImageSoup = BeautifulSoup(browser.html, 'html.parser')\n",
    "\n",
    "\n",
    "#-- Get URL to Feature Image\n",
    "#- Get List of Image Details\n",
    "imageMetadataList = spaceImageSoup.find_all('div', class_='download_tiff')\n",
    "\n",
    "\n",
    "#- Get JPG\n",
    "featured_image_url = ''\n",
    "\n",
    "for imageMetadata in imageMetadataList:\n",
    "    \n",
    "    if ('Full-Res JPG' in imageMetadata.text):\n",
    "                \n",
    "        #- Create URL\n",
    "        baseUrl = \"https:\"\n",
    "        featured_image_url = urllib.parse.urljoin(baseUrl, imageMetadata.find('a')['href'])\n",
    "        \n",
    "        break\n",
    "\n",
    "        \n",
    "#- Display Information\n",
    "print(f\"URL: {featured_image_url}\")\n"
   ]
  },
  {
   "cell_type": "markdown",
   "metadata": {},
   "source": [
    "### 1.4 Mars Weather\n",
    "Get the latest Mars weather from tweeter feed. The paragraphy that contains the latest weather also includes an image of a graphic of the weather and when pulling the text from the paragraphy it also contains that image name; the code removes that image name."
   ]
  },
  {
   "cell_type": "code",
   "execution_count": 27,
   "metadata": {},
   "outputs": [
    {
     "name": "stdout",
     "output_type": "stream",
     "text": [
      "Mars latest weather: InSight sol 141 (2019-04-20) low -98.3ºC (-144.9ºF) high -19.7ºC (-3.5ºF)\n",
      "winds from the SW at 4.7 m/s (10.6 mph) gusting to 12.9 m/s (28.8 mph)\n",
      "pressure at 7.40 hPa\n"
     ]
    }
   ],
   "source": [
    "#-- Get Page\n",
    "#- Navigate to Page\n",
    "marsWeatherUrl = 'https://twitter.com/marswxreport?lang=en'\n",
    "\n",
    "browser.visit(marsWeatherUrl)\n",
    "\n",
    "\n",
    "#- Parse Page\n",
    "weatherSoup = BeautifulSoup(browser.html, 'html.parser')\n",
    "\n",
    "\n",
    "#-- Get Latest Weather\n",
    "#- Get Div with List of weather reports\n",
    "weatherStreamDivs = weatherSoup.find_all('div', class_='stream')\n",
    "\n",
    "\n",
    "#- Get List of Weather Reports\n",
    "weatherReportsList = weatherStreamDivs[0].find_all('li')\n",
    "\n",
    "\n",
    "#- Get Latest Weather\n",
    "latestWeatherDiv = weatherReportsList[0].find('div', class_='js-tweet-text-container')\n",
    "\n",
    "\n",
    "#- Get Weather\n",
    "# Paragraphy contains twitter image text, remove that\n",
    "weatherRemove = latestWeatherDiv.find('a').text\n",
    "\n",
    "weatherAll = latestWeatherDiv.find('p').text\n",
    "\n",
    "mars_weather = weatherAll.replace(weatherRemove, '')\n",
    "\n",
    "\n",
    "print(f'Mars latest weather: {mars_weather}')\n"
   ]
  },
  {
   "cell_type": "markdown",
   "metadata": {},
   "source": [
    "### 1.5 Mars Facts\n",
    "Using Pandas, get the table of Mars facts from website. When exporting to HTML, the index is not included and additional line breaks are removed."
   ]
  },
  {
   "cell_type": "code",
   "execution_count": 49,
   "metadata": {},
   "outputs": [
    {
     "name": "stdout",
     "output_type": "stream",
     "text": [
      "<table border=\"1\" class=\"dataframe\">  <thead>    <tr style=\"text-align: right;\">      <th>Fact</th>      <th>Info</th>    </tr>  </thead>  <tbody>    <tr>      <td>Equatorial Diameter:</td>      <td>6,792 km</td>    </tr>    <tr>      <td>Polar Diameter:</td>      <td>6,752 km</td>    </tr>    <tr>      <td>Mass:</td>      <td>6.42 x 10^23 kg (10.7% Earth)</td>    </tr>    <tr>      <td>Moons:</td>      <td>2 (Phobos &amp; Deimos)</td>    </tr>    <tr>      <td>Orbit Distance:</td>      <td>227,943,824 km (1.52 AU)</td>    </tr>    <tr>      <td>Orbit Period:</td>      <td>687 days (1.9 years)</td>    </tr>    <tr>      <td>Surface Temperature:</td>      <td>-153 to 20 °C</td>    </tr>    <tr>      <td>First Record:</td>      <td>2nd millennium BC</td>    </tr>    <tr>      <td>Recorded By:</td>      <td>Egyptian astronomers</td>    </tr>  </tbody></table>\n"
     ]
    }
   ],
   "source": [
    "#- Get Mars Fact DataFrame\n",
    "marsFactsUrl = 'https://space-facts.com/mars/'\n",
    "\n",
    "marsFactsTables = pd.read_html(marsFactsUrl)\n",
    "\n",
    "marsFacts_df = marsFactsTables[0]\n",
    "\n",
    "\n",
    "#- Rename Columns\n",
    "marsFacts_df.columns = ['Fact', 'Info']\n",
    "\n",
    "\n",
    "#- Create HTML Table\n",
    "marsFactsHtml = marsFacts_df.to_html(index=False)\n",
    "\n",
    "\n",
    "#- Cleanup HTML\n",
    "marsFactsHtml = marsFactsHtml.replace('\\n', '')\n",
    "\n",
    "\n",
    "#- Display HTML\n",
    "print(marsFactsHtml)\n"
   ]
  },
  {
   "cell_type": "markdown",
   "metadata": {},
   "source": [
    "### 1.6 Mars Hemispheres\n",
    "Create dictionary that contains an item for each hemisphere which includes the URL to the image from the UCGS Astrogeology site. Dynamically determine the names of the buttons so that these can be used to navigate with."
   ]
  },
  {
   "cell_type": "code",
   "execution_count": 26,
   "metadata": {},
   "outputs": [
    {
     "name": "stdout",
     "output_type": "stream",
     "text": [
      "Completed navigation to details page: Cerberus Hemisphere Enhanced\n",
      "Success getting image URL: http://astropedia.astrogeology.usgs.gov/download/Mars/Viking/cerberus_enhanced.tif/full.jpg\n",
      "Completed navigation to details page: Schiaparelli Hemisphere Enhanced\n",
      "Success getting image URL: http://astropedia.astrogeology.usgs.gov/download/Mars/Viking/schiaparelli_enhanced.tif/full.jpg\n",
      "Completed navigation to details page: Syrtis Major Hemisphere Enhanced\n",
      "Success getting image URL: http://astropedia.astrogeology.usgs.gov/download/Mars/Viking/syrtis_major_enhanced.tif/full.jpg\n",
      "Completed navigation to details page: Valles Marineris Hemisphere Enhanced\n",
      "Success getting image URL: http://astropedia.astrogeology.usgs.gov/download/Mars/Viking/valles_marineris_enhanced.tif/full.jpg\n",
      "[{'title': 'Cerberus Hemisphere', 'img_url': 'http://astropedia.astrogeology.usgs.gov/download/Mars/Viking/cerberus_enhanced.tif/full.jpg'}, {'title': 'Schiaparelli Hemisphere', 'img_url': 'http://astropedia.astrogeology.usgs.gov/download/Mars/Viking/schiaparelli_enhanced.tif/full.jpg'}, {'title': 'Syrtis Major Hemisphere', 'img_url': 'http://astropedia.astrogeology.usgs.gov/download/Mars/Viking/syrtis_major_enhanced.tif/full.jpg'}, {'title': 'Valles Marineris Hemisphere', 'img_url': 'http://astropedia.astrogeology.usgs.gov/download/Mars/Viking/valles_marineris_enhanced.tif/full.jpg'}]\n"
     ]
    }
   ],
   "source": [
    "#-- Navigate to Astrogeology Page\n",
    "marsHemispheresUrl = 'https://astrogeology.usgs.gov/search/results?q=hemisphere+enhanced&k1=target&v1=Mars'\n",
    "\n",
    "browser.visit(marsHemispheresUrl)\n",
    "\n",
    "\n",
    "#-- Get Names of buttons\n",
    "#- Parse Page\n",
    "hemisphereSoup = BeautifulSoup(browser.html, 'html.parser')\n",
    "\n",
    "#- Div of Hemispheres\n",
    "divHemispheres = hemisphereSoup.find_all('div', class_='description')\n",
    "\n",
    "#- Loop Through divs and get name of hyperlink\n",
    "hyperlinkTitles = []\n",
    "\n",
    "for divHemisphere in divHemispheres:\n",
    "    hyperlinkTitles.append(divHemisphere.find('h3').text)\n",
    "    \n",
    "\n",
    "#-- Get Hemisphere Metadata\n",
    "hemisphere_image_urls = []\n",
    "\n",
    "for hyperlinkTitle in hyperlinkTitles:\n",
    "    \n",
    "    #- Navigate to page\n",
    "    browser.click_link_by_partial_text(hyperlinkTitle)\n",
    "    \n",
    "    print(f'Completed navigation to details page: {hyperlinkTitle}')\n",
    "    \n",
    "    \n",
    "    #- Parse Page\n",
    "    hemisphereDetailSoup = BeautifulSoup(browser.html, 'html.parser')\n",
    "    \n",
    "    \n",
    "    #- Get Div with Metadata\n",
    "    downloadDiv = hemisphereDetailSoup.find('div', class_='downloads')\n",
    "    \n",
    "    \n",
    "    #- Get Image URL\n",
    "    hemisphereImageUrl = downloadDiv.find('a')['href']\n",
    "    \n",
    "    #- Add Dictionary to list\n",
    "    hemisphere_image_urls.append(\n",
    "    {\n",
    "        'title': hyperlinkTitle.replace(' Enhanced', ''),\n",
    "        'img_url': hemisphereImageUrl\n",
    "    })\n",
    "    \n",
    "    \n",
    "    print(f'Success getting image URL: {hemisphereImageUrl}')\n",
    "    \n",
    "    \n",
    "    #- Return to source page\n",
    "    browser.visit(marsHemispheresUrl)\n",
    "\n",
    "\n",
    "print(hemisphere_image_urls)\n",
    "\n"
   ]
  }
 ],
 "metadata": {
  "kernelspec": {
   "display_name": "Python 3",
   "language": "python",
   "name": "python3"
  },
  "language_info": {
   "codemirror_mode": {
    "name": "ipython",
    "version": 3
   },
   "file_extension": ".py",
   "mimetype": "text/x-python",
   "name": "python",
   "nbconvert_exporter": "python",
   "pygments_lexer": "ipython3",
   "version": "3.7.1"
  }
 },
 "nbformat": 4,
 "nbformat_minor": 2
}
